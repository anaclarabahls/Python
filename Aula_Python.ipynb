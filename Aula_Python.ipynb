{
  "nbformat": 4,
  "nbformat_minor": 0,
  "metadata": {
    "colab": {
      "provenance": [],
      "authorship_tag": "ABX9TyMCKx7PcYIpv1saU0wzex+I",
      "include_colab_link": true
    },
    "kernelspec": {
      "name": "python3",
      "display_name": "Python 3"
    },
    "language_info": {
      "name": "python"
    }
  },
  "cells": [
    {
      "cell_type": "markdown",
      "metadata": {
        "id": "view-in-github",
        "colab_type": "text"
      },
      "source": [
        "<a href=\"https://colab.research.google.com/github/anaclarabahls/Python/blob/main/Aula_Python.ipynb\" target=\"_parent\"><img src=\"https://colab.research.google.com/assets/colab-badge.svg\" alt=\"Open In Colab\"/></a>"
      ]
    },
    {
      "cell_type": "code",
      "execution_count": null,
      "metadata": {
        "id": "JTp49E4mmv6M"
      },
      "outputs": [],
      "source": []
    },
    {
      "cell_type": "markdown",
      "source": [
        "AULA 1"
      ],
      "metadata": {
        "id": "TrLCkEAqnX53"
      }
    },
    {
      "cell_type": "code",
      "source": [
        "print(\"I competição de programação dá Start\")\n"
      ],
      "metadata": {
        "colab": {
          "base_uri": "https://localhost:8080/"
        },
        "id": "xVkwyMPwnlRm",
        "outputId": "ad56e4a7-5f7a-41c3-8e1b-09982a0afea5"
      },
      "execution_count": null,
      "outputs": [
        {
          "output_type": "stream",
          "name": "stdout",
          "text": [
            "I competição de programação dá Start\n"
          ]
        }
      ]
    },
    {
      "cell_type": "code",
      "source": [
        "ano = \"VI\""
      ],
      "metadata": {
        "id": "T9iOHTe-onlX"
      },
      "execution_count": null,
      "outputs": []
    },
    {
      "cell_type": "code",
      "source": [
        "print(ano, \"competição de programação da Start\")"
      ],
      "metadata": {
        "colab": {
          "base_uri": "https://localhost:8080/"
        },
        "id": "Jy7tKrhzotRV",
        "outputId": "878b5491-1541-4180-843c-2951b022b6bc"
      },
      "execution_count": null,
      "outputs": [
        {
          "output_type": "stream",
          "name": "stdout",
          "text": [
            "II competição de programação da Start\n"
          ]
        }
      ]
    },
    {
      "cell_type": "markdown",
      "source": [
        "AULA 2"
      ],
      "metadata": {
        "id": "O8vC2pXShlIE"
      }
    },
    {
      "cell_type": "code",
      "source": [
        "livro_ficcao = 8\n",
        "livro_n_ficcao = 10\n",
        "livro_infantil = 6\n",
        "pontos_rodrigo = livro_ficcao + livro_n_ficcao + livro_infantil\n",
        "print(f\"Os pontos totais do Rodrigo são {pontos_rodrigo}\")\n",
        "pontos_ana = 2 * livro_ficcao + 5 * livro_infantil\n",
        "print(f\"Os pontos totais de Ana são {pontos_ana}\")\n",
        "\n",
        "\n",
        "livro_ficcao = 8\n",
        "livro_n_ficcao = 10\n",
        "livro_infantil = 6\n",
        "pontos_Ana = 2* livro_ficcao + 5* livro_infantil\n",
        "print(f\"Os pontos totais de Ana e rodrigo são {pontos_Ana + pontos_rodrigo}\")\n",
        "\n",
        "pontos_carlos = 1 * livro_ficcao + 3 * livro_n_ficcao  + 3 * livro_infantil\n",
        "print(f\"Os pontos totais de Carlo são {pontos_carlos}\")\n",
        "print(f\"Os pontos totais de Ana + Rodrigo + Carlo são {pontos_ana + pontos_rodrigo + pontos_carlos}\")"
      ],
      "metadata": {
        "colab": {
          "base_uri": "https://localhost:8080/"
        },
        "id": "nlKekBEHnE1o",
        "outputId": "aaeec94d-810e-47bf-f8c9-9734a72c44a0"
      },
      "execution_count": 15,
      "outputs": [
        {
          "output_type": "stream",
          "name": "stdout",
          "text": [
            "Os pontos totais do Rodrigo são 24\n",
            "Os pontos totais de Ana são 46\n",
            "Os pontos totais de Ana e rodrigo são 70\n",
            "Os pontos totais de Carlo são 56\n",
            "Os pontos totais de Ana + Rodrigo + Carlo são 126\n"
          ]
        }
      ]
    }
  ]
}